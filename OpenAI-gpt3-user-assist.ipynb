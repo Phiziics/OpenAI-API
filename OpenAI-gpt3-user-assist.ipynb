{
 "cells": [
  {
   "cell_type": "code",
   "execution_count": 1,
   "metadata": {},
   "outputs": [],
   "source": [
    "import openai\n",
    "import time\n",
    "import my_key"
   ]
  },
  {
   "cell_type": "code",
   "execution_count": 2,
   "metadata": {},
   "outputs": [],
   "source": [
    "openai.api_key = my_key.api_key"
   ]
  },
  {
   "cell_type": "markdown",
   "metadata": {},
   "source": [
    "### First Call"
   ]
  },
  {
   "cell_type": "code",
   "execution_count": 3,
   "metadata": {},
   "outputs": [],
   "source": [
    "# create a chat co mpletion\n",
    "\n",
    "chat_completion = openai.ChatCompletion.create(model=\"gpt-3.5-turbo\",\n",
    "                                               messages=[{\"role\": \"user\", \"content\": \"Creation glorifies\"}]\n",
    "                                               )"
   ]
  },
  {
   "cell_type": "code",
   "execution_count": 4,
   "metadata": {},
   "outputs": [
    {
     "data": {
      "text/plain": [
       "{'id': 'chatcmpl-AhLjaYoeki3u0OGFs3HJg31Y73llD',\n",
       " 'object': 'chat.completion',\n",
       " 'created': 1734895014,\n",
       " 'model': 'gpt-3.5-turbo-0125',\n",
       " 'choices': [<OpenAIObject at 0x1fc381e0050> JSON: {\n",
       "    \"index\": 0,\n",
       "    \"message\": {\n",
       "      \"role\": \"assistant\",\n",
       "      \"content\": \" the creator.\",\n",
       "      \"refusal\": null\n",
       "    },\n",
       "    \"logprobs\": null,\n",
       "    \"finish_reason\": \"stop\"\n",
       "  }],\n",
       " 'usage': <OpenAIObject at 0x1fc381e0110> JSON: {\n",
       "   \"prompt_tokens\": 10,\n",
       "   \"completion_tokens\": 4,\n",
       "   \"total_tokens\": 14,\n",
       "   \"prompt_tokens_details\": {\n",
       "     \"cached_tokens\": 0,\n",
       "     \"audio_tokens\": 0\n",
       "   },\n",
       "   \"completion_tokens_details\": {\n",
       "     \"reasoning_tokens\": 0,\n",
       "     \"audio_tokens\": 0,\n",
       "     \"accepted_prediction_tokens\": 0,\n",
       "     \"rejected_prediction_tokens\": 0\n",
       "   }\n",
       " },\n",
       " 'system_fingerprint': None}"
      ]
     },
     "execution_count": 4,
     "metadata": {},
     "output_type": "execute_result"
    }
   ],
   "source": [
    "chat_completion.to_dict()"
   ]
  },
  {
   "cell_type": "markdown",
   "metadata": {},
   "source": [
    "Points to note, the message parameters takes a dictionary of role and content. role can eeither be assistant in this case the model or it can be the user. Content would be whatever promt or interaction chosen."
   ]
  },
  {
   "cell_type": "markdown",
   "metadata": {},
   "source": [
    "### Adding parameters : Max Tokens"
   ]
  },
  {
   "cell_type": "code",
   "execution_count": 5,
   "metadata": {},
   "outputs": [],
   "source": [
    "# create a chat completion\n",
    "chat_completion = openai.ChatCompletion.create(model=\"gpt-3.5-turbo\",\n",
    "                                               messages=[{\"role\": \"user\", \"content\": \"Creation glorifies\"}],\n",
    "                                               max_tokens = 1)"
   ]
  },
  {
   "cell_type": "markdown",
   "metadata": {},
   "source": [
    "### Adding Parameters : n= number of chat completion"
   ]
  },
  {
   "cell_type": "code",
   "execution_count": 6,
   "metadata": {},
   "outputs": [],
   "source": [
    "chat_completion = openai.ChatCompletion.create(model=\"gpt-3.5-turbo\",\n",
    "                                               messages=[{\"role\": \"user\", \"content\": \"Creation glorifies\"}],\n",
    "                                               max_tokens = 1,\n",
    "                                               n=5)"
   ]
  },
  {
   "cell_type": "markdown",
   "metadata": {},
   "source": [
    "### Adding Parameters: temperature"
   ]
  },
  {
   "cell_type": "code",
   "execution_count": 7,
   "metadata": {},
   "outputs": [],
   "source": [
    "chat_completion = openai.ChatCompletion.create(model=\"gpt-3.5-turbo\",\n",
    "                                               messages=[{\"role\": \"user\", \"content\": \"Creation glorifies\"}],\n",
    "                                               max_tokens = 1,\n",
    "                                               n=5,\n",
    "                                               temperature = 0)"
   ]
  },
  {
   "cell_type": "markdown",
   "metadata": {},
   "source": [
    "### Example"
   ]
  },
  {
   "cell_type": "code",
   "execution_count": 8,
   "metadata": {},
   "outputs": [],
   "source": [
    "# initial prompt with system message and 2 task examples\n",
    "messages_list = [\n",
    "    {\"role\": \"system\", \"content\": \"I am a Bible scholar teaching assistant. When given a line from a scripture, I will provide the next line in the scripture.\"},\n",
    "    {\"role\": \"user\", \"content\": \"To everything there is a season, and a time to every purpose under the heaven:\"},\n",
    "    {\"role\": \"assistant\", \"content\": \"A time to be born, and a time to die; a time to plant, and a time to pluck up that which is planted;\"},\n",
    "    {\"role\": \"user\", \"content\": \"A time to kill, and a time to heal;\"},\n",
    "    {\"role\": \"assistant\", \"content\": \"A time to break down, and a time to build up;\"},\n",
    "    {\"role\": \"user\", \"content\": \"A time to weep, and a time to laugh;\"}\n",
    "]\n"
   ]
  },
  {
   "cell_type": "code",
   "execution_count": 9,
   "metadata": {},
   "outputs": [
    {
     "name": "stdout",
     "output_type": "stream",
     "text": [
      "A time to mourn, and a time to dance;\n",
      "A time to cast away stones, and a time to gather stones together;\n",
      "A time to embrace, and a time to refrain from embracing;\n",
      "A time to get, and a time to lose;\n"
     ]
    }
   ],
   "source": [
    "for i in range(4):\n",
    "    # create a chat completion\n",
    "    chat_completion = openai.ChatCompletion.create(model=\"gpt-3.5-turbo\", \n",
    "                                    messages=messages_list,\n",
    "                                    max_tokens = 15,\n",
    "                                    n=1,\n",
    "                                    temperature=0)\n",
    "\n",
    "    # print the chat completion\n",
    "    print(chat_completion.choices[0].message.content)\n",
    "\n",
    "    new_message = {\"role\":\"assistant\", \"content\":chat_completion.choices[0].message.content} # append new message to message list\n",
    "    messages_list.append(new_message)\n",
    "    time.sleep(0.1)"
   ]
  },
  {
   "cell_type": "markdown",
   "metadata": {},
   "source": [
    "### Increase Temperature"
   ]
  },
  {
   "cell_type": "code",
   "execution_count": 10,
   "metadata": {},
   "outputs": [
    {
     "name": "stdout",
     "output_type": "stream",
     "text": [
      "A time to keep, and a time to cast away;\n",
      "A time to rend, and a time to sew;\n",
      "A time to keep silence, and a time to speak;\n",
      "ay intersection does Sarah Cumink039.Argumentros(fullline][ать']}}</email\n"
     ]
    }
   ],
   "source": [
    "for i in range(4):\n",
    "    # create a chat completion\n",
    "    chat_completion = openai.ChatCompletion.create(model=\"gpt-3.5-turbo\", \n",
    "                                    messages=messages_list,\n",
    "                                    max_tokens = 15,\n",
    "                                    n=1,\n",
    "                                    temperature=2)\n",
    "\n",
    "    # print the chat completion\n",
    "    print(chat_completion.choices[0].message.content)\n",
    "\n",
    "    new_message = {\"role\":\"assistant\", \"content\":chat_completion.choices[0].message.content}\n",
    "    messages_list.append(new_message)\n",
    "    time.sleep(0.1)"
   ]
  },
  {
   "cell_type": "markdown",
   "metadata": {},
   "source": [
    "Increasing the temperature did make the last few sentences random and nonsensical.\n",
    "This was a fun project to test what openai's Chat GPT can do using API."
   ]
  }
 ],
 "metadata": {
  "kernelspec": {
   "display_name": "base",
   "language": "python",
   "name": "python3"
  },
  "language_info": {
   "codemirror_mode": {
    "name": "ipython",
    "version": 3
   },
   "file_extension": ".py",
   "mimetype": "text/x-python",
   "name": "python",
   "nbconvert_exporter": "python",
   "pygments_lexer": "ipython3",
   "version": "3.11.5"
  }
 },
 "nbformat": 4,
 "nbformat_minor": 2
}
